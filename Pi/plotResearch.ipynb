{
 "cells": [
  {
   "cell_type": "code",
   "execution_count": null,
   "metadata": {},
   "outputs": [],
   "source": [
    "import pandas as pd\n",
    "import pathlib as pl\n",
    "import plotly.express as px\n",
    "import numpy as np\n",
    "import plotly.io as pio\n",
    "import os\n",
    "import img2pdf\n",
    "\n",
    "file = pl.Path(\"../recieved.csv\")\n",
    "\n",
    "headerNames = [\"time\", \"recieverId\", \"tempInC\", \"pressure\", \"altitude\", \"humidity\", \"capacitance\"]\n",
    "dataCols = [\"tempInC\", \"pressure\", \"altitude\", \"humidity\", \"capacitance\"]\n",
    "recievedDf = pd.read_csv(file, names=headerNames)  # dF means DataFrame, a construct in pandas for tabled data\n",
    "\n",
    "# pd.options.plotting.backend = \"plotly\"\n",
    "\n",
    "uniqueIDs = sorted(recievedDf.recieverId.unique())\n",
    "print(f\"IDs Connected: {uniqueIDs}\")\n",
    "figList = []\n",
    "for uniqueID in uniqueIDs:\n",
    "    figsOfId = []\n",
    "    tempDf = recievedDf[recievedDf['recieverId']==uniqueID]\n",
    "    tempDf = tempDf[np.abs(tempDf.capacitance - tempDf.capacitance.mean()) <= (3 * tempDf.capacitance.std())] #keep only the ones that are within +3 to -3 standard deviations in the column 'Data'.\n",
    "    tempDf = tempDf[~(np.abs(tempDf.capacitance - tempDf.capacitance.mean()) > (3 * tempDf.capacitance.std()))] #or the other way around\n",
    "    for col in dataCols:\n",
    "        tempTitle = (f\"Reciever-{uniqueID}-{col}\").upper()\n",
    "        figsOfId.append(px.scatter(tempDf, x=\"time\", y=col, title=tempTitle, template=\"plotly_white\"))    \n",
    "    figList.append(figsOfId)\n",
    "\n",
    "for reciever in figList:\n",
    "    for plot in reciever:\n",
    "        place = pl.Path(f\"output/images/{plot.layout.title.text}.png\")\n",
    "        plot.write_image(place)\n"
   ]
  },
  {
   "cell_type": "code",
   "execution_count": null,
   "metadata": {},
   "outputs": [],
   "source": [
    "# Convert Images to one PDF\n",
    "with open(pl.Path(\"output/sensorPlots.pdf\"), \"wb\") as f:\n",
    "    fullPaths = [os.path.join(\"output/images/\", name) for name in os.listdir(\"output/images/\")]\n",
    "    f.write(img2pdf.convert([i for i in fullPaths if i.endswith(\".png\")]))"
   ]
  },
  {
   "cell_type": "code",
   "execution_count": null,
   "metadata": {},
   "outputs": [],
   "source": [
    "# MAP Example\n",
    "import plotly.express as px\n",
    "df = px.data.carshare()\n",
    "fig = px.scatter_mapbox(df, lat=\"centroid_lat\", lon=\"centroid_lon\", color=\"peak_hour\", size=\"car_hours\",\n",
    "                  color_continuous_scale=px.colors.cyclical.IceFire, size_max=15, zoom=10,\n",
    "                  mapbox_style=\"carto-positron\")\n",
    "fig.show()"
   ]
  }
 ],
 "metadata": {
  "interpreter": {
   "hash": "916dbcbb3f70747c44a77c7bcd40155683ae19c65e1c03b4aa3499c5328201f1"
  },
  "kernelspec": {
   "display_name": "Python 3.9.7 64-bit",
   "language": "python",
   "name": "python3"
  },
  "language_info": {
   "codemirror_mode": {
    "name": "ipython",
    "version": 3
   },
   "file_extension": ".py",
   "mimetype": "text/x-python",
   "name": "python",
   "nbconvert_exporter": "python",
   "pygments_lexer": "ipython3",
   "version": "3.9.7"
  },
  "orig_nbformat": 4
 },
 "nbformat": 4,
 "nbformat_minor": 2
}
