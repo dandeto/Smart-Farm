{
 "cells": [
  {
   "cell_type": "code",
   "execution_count": null,
   "metadata": {},
   "outputs": [],
   "source": [
    "import pandas as pd\n",
    "import pathlib as pl\n",
    "file = pl.Path(\"../recieved.csv\")\n",
    "\n",
    "headerNames = [\"time\", \"recieverId\", \"tempInC\", \"pressure\", \"altitude\", \"humidity\", \"capacitance\"]\n",
    "recievedDf = pd.read_csv(file, names=headerNames)  # dF means DataFrame, a construct in pandas for tabled data\n",
    "print(recievedDf)"
   ]
  },
  {
   "cell_type": "code",
   "execution_count": null,
   "metadata": {},
   "outputs": [],
   "source": [
    "import plotly.express as px\n",
    "# pd.options.plotting.backend = \"plotly\"\n",
    "#  df[df['Time'] == 1]][['Wavelength', 'Absorption']]\n",
    "px.scatter(recievedDf[recievedDf['recieverId']==1], x=\"time\", y=\"altitude\", title=\"Reciever 1\")\n",
    "px.scatter(recievedDf[recievedDf['recieverId']==3], x=\"time\", y=\"altitude\", title=\"Reviever 3\")"
   ]
  }
 ],
 "metadata": {
  "interpreter": {
   "hash": "916dbcbb3f70747c44a77c7bcd40155683ae19c65e1c03b4aa3499c5328201f1"
  },
  "kernelspec": {
   "display_name": "Python 3.9.7 64-bit",
   "language": "python",
   "name": "python3"
  },
  "language_info": {
   "codemirror_mode": {
    "name": "ipython",
    "version": 3
   },
   "file_extension": ".py",
   "mimetype": "text/x-python",
   "name": "python",
   "nbconvert_exporter": "python",
   "pygments_lexer": "ipython3",
   "version": "3.9.7"
  },
  "orig_nbformat": 4
 },
 "nbformat": 4,
 "nbformat_minor": 2
}
