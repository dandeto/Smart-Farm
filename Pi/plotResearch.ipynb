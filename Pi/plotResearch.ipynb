{
 "cells": [
  {
   "cell_type": "code",
   "execution_count": null,
   "metadata": {},
   "outputs": [],
   "source": [
    "import pandas as pd\n",
    "import pathlib as pl\n",
    "file = pl.Path(\"../recieved.csv\")\n",
    "\n",
    "headerNames = [\"time\", \"recieverId\", \"tempInC\", \"pressure\", \"altitude\", \"humidity\", \"capacitance\"]\n",
    "recievedDf = pd.read_csv(file, names=headerNames)  # dF means DataFrame, a construct in pandas for tabled data\n",
    "print(recievedDf)"
   ]
  },
  {
   "cell_type": "code",
   "execution_count": null,
   "metadata": {},
   "outputs": [],
   "source": [
    "# pd.options.plotting.backend = \"plotly\"\n",
    "import plotly.express as px\n",
    "import numpy as np\n",
    "df1 = recievedDf[recievedDf['recieverId']==1]\n",
    "\n",
    "df2 = recievedDf[recievedDf['recieverId']==2]\n",
    "\n",
    "df3 = recievedDf[recievedDf['recieverId']==3]\n",
    "df3 = df3[np.abs(df3.capacitance - df3.capacitance.mean()) <= (3 * df3.capacitance.std())] #keep only the ones that are within +3 to -3 standard deviations in the column 'Data'.\n",
    "df3 = df3[~(np.abs(df3.capacitance - df3.capacitance.mean()) > (3 * df3.capacitance.std()))] #or the other way around\n",
    "\n",
    "df4 = recievedDf[recievedDf['recieverId']==4]\n",
    "\n",
    "fig1 = px.scatter(df1, x=\"time\", y=\"tempInC\", title=\"Reciever 1\")\n",
    "fig1.show()\n",
    "fig2 = px.scatter(df2, x=\"time\", y=\"tempInC\", title=\"Reviever 2\")\n",
    "fig2.show()\n",
    "fig3 = px.scatter(df3, x=\"time\", y=\"tempInC\", title=\"Reviever 3\")\n",
    "fig3.show()\n",
    "fig4 = px.scatter(df4, x=\"time\", y=\"tempInC\", title=\"Reviever 4\")\n",
    "fig4.show()"
   ]
  },
  {
   "cell_type": "code",
   "execution_count": null,
   "metadata": {},
   "outputs": [],
   "source": [
    "# MAP Example\n",
    "import plotly.express as px\n",
    "df = px.data.carshare()\n",
    "fig = px.scatter_mapbox(df, lat=\"centroid_lat\", lon=\"centroid_lon\", color=\"peak_hour\", size=\"car_hours\",\n",
    "                  color_continuous_scale=px.colors.cyclical.IceFire, size_max=15, zoom=10,\n",
    "                  mapbox_style=\"carto-positron\")\n",
    "fig.show()"
   ]
  }
 ],
 "metadata": {
  "interpreter": {
   "hash": "916dbcbb3f70747c44a77c7bcd40155683ae19c65e1c03b4aa3499c5328201f1"
  },
  "kernelspec": {
   "display_name": "Python 3.9.7 64-bit",
   "language": "python",
   "name": "python3"
  },
  "language_info": {
   "codemirror_mode": {
    "name": "ipython",
    "version": 3
   },
   "file_extension": ".py",
   "mimetype": "text/x-python",
   "name": "python",
   "nbconvert_exporter": "python",
   "pygments_lexer": "ipython3",
   "version": "3.9.7"
  },
  "orig_nbformat": 4
 },
 "nbformat": 4,
 "nbformat_minor": 2
}
