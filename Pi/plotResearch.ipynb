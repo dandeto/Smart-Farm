{
 "cells": [
  {
   "cell_type": "code",
   "execution_count": 2,
   "metadata": {},
   "outputs": [
    {
     "name": "stdout",
     "output_type": "stream",
     "text": [
      "IDs Connected: [1, 2, 3, 4]\n"
     ]
    },
    {
     "ename": "ValueError",
     "evalue": "\nImage export using the \"kaleido\" engine requires the kaleido package,\nwhich can be installed using pip:\n    $ pip install -U kaleido\n",
     "output_type": "error",
     "traceback": [
      "\u001b[0;31m---------------------------------------------------------------------------\u001b[0m",
      "\u001b[0;31mValueError\u001b[0m                                Traceback (most recent call last)",
      "\u001b[1;32m/run/media/bitbear/S&0-BACKUP/Code/Senior_Design/Smart-Farm/Pi/plotResearch.ipynb Cell 1'\u001b[0m in \u001b[0;36m<cell line: 30>\u001b[0;34m()\u001b[0m\n\u001b[1;32m     <a href='vscode-notebook-cell:/run/media/bitbear/S%260-BACKUP/Code/Senior_Design/Smart-Farm/Pi/plotResearch.ipynb#ch0000000?line=30'>31</a>\u001b[0m \u001b[39mfor\u001b[39;00m plot \u001b[39min\u001b[39;00m reciever:\n\u001b[1;32m     <a href='vscode-notebook-cell:/run/media/bitbear/S%260-BACKUP/Code/Senior_Design/Smart-Farm/Pi/plotResearch.ipynb#ch0000000?line=31'>32</a>\u001b[0m     place \u001b[39m=\u001b[39m pl\u001b[39m.\u001b[39mPath(\u001b[39mf\u001b[39m\u001b[39m\"\u001b[39m\u001b[39moutput/images/\u001b[39m\u001b[39m{\u001b[39;00mplot\u001b[39m.\u001b[39mlayout\u001b[39m.\u001b[39mtitle\u001b[39m.\u001b[39mtext\u001b[39m}\u001b[39;00m\u001b[39m.png\u001b[39m\u001b[39m\"\u001b[39m)\n\u001b[0;32m---> <a href='vscode-notebook-cell:/run/media/bitbear/S%260-BACKUP/Code/Senior_Design/Smart-Farm/Pi/plotResearch.ipynb#ch0000000?line=32'>33</a>\u001b[0m     plot\u001b[39m.\u001b[39;49mwrite_image(place)\n",
      "File \u001b[0;32m~/.local/lib/python3.10/site-packages/plotly/basedatatypes.py:3829\u001b[0m, in \u001b[0;36mBaseFigure.write_image\u001b[0;34m(self, *args, **kwargs)\u001b[0m\n\u001b[1;32m   <a href='file:///home/bitbear/.local/lib/python3.10/site-packages/plotly/basedatatypes.py?line=3768'>3769</a>\u001b[0m \u001b[39m\"\"\"\u001b[39;00m\n\u001b[1;32m   <a href='file:///home/bitbear/.local/lib/python3.10/site-packages/plotly/basedatatypes.py?line=3769'>3770</a>\u001b[0m \u001b[39mConvert a figure to a static image and write it to a file or writeable\u001b[39;00m\n\u001b[1;32m   <a href='file:///home/bitbear/.local/lib/python3.10/site-packages/plotly/basedatatypes.py?line=3770'>3771</a>\u001b[0m \u001b[39mobject\u001b[39;00m\n\u001b[0;32m   (...)\u001b[0m\n\u001b[1;32m   <a href='file:///home/bitbear/.local/lib/python3.10/site-packages/plotly/basedatatypes.py?line=3824'>3825</a>\u001b[0m \u001b[39mNone\u001b[39;00m\n\u001b[1;32m   <a href='file:///home/bitbear/.local/lib/python3.10/site-packages/plotly/basedatatypes.py?line=3825'>3826</a>\u001b[0m \u001b[39m\"\"\"\u001b[39;00m\n\u001b[1;32m   <a href='file:///home/bitbear/.local/lib/python3.10/site-packages/plotly/basedatatypes.py?line=3826'>3827</a>\u001b[0m \u001b[39mimport\u001b[39;00m \u001b[39mplotly\u001b[39;00m\u001b[39m.\u001b[39;00m\u001b[39mio\u001b[39;00m \u001b[39mas\u001b[39;00m \u001b[39mpio\u001b[39;00m\n\u001b[0;32m-> <a href='file:///home/bitbear/.local/lib/python3.10/site-packages/plotly/basedatatypes.py?line=3828'>3829</a>\u001b[0m \u001b[39mreturn\u001b[39;00m pio\u001b[39m.\u001b[39;49mwrite_image(\u001b[39mself\u001b[39;49m, \u001b[39m*\u001b[39;49margs, \u001b[39m*\u001b[39;49m\u001b[39m*\u001b[39;49mkwargs)\n",
      "File \u001b[0;32m~/.local/lib/python3.10/site-packages/plotly/io/_kaleido.py:268\u001b[0m, in \u001b[0;36mwrite_image\u001b[0;34m(fig, file, format, scale, width, height, validate, engine)\u001b[0m\n\u001b[1;32m    <a href='file:///home/bitbear/.local/lib/python3.10/site-packages/plotly/io/_kaleido.py?line=251'>252</a>\u001b[0m             \u001b[39mraise\u001b[39;00m \u001b[39mValueError\u001b[39;00m(\n\u001b[1;32m    <a href='file:///home/bitbear/.local/lib/python3.10/site-packages/plotly/io/_kaleido.py?line=252'>253</a>\u001b[0m                 \u001b[39m\"\"\"\u001b[39;00m\n\u001b[1;32m    <a href='file:///home/bitbear/.local/lib/python3.10/site-packages/plotly/io/_kaleido.py?line=253'>254</a>\u001b[0m \u001b[39mCannot infer image type from output path '{file}'.\u001b[39;00m\n\u001b[0;32m   (...)\u001b[0m\n\u001b[1;32m    <a href='file:///home/bitbear/.local/lib/python3.10/site-packages/plotly/io/_kaleido.py?line=261'>262</a>\u001b[0m                 )\n\u001b[1;32m    <a href='file:///home/bitbear/.local/lib/python3.10/site-packages/plotly/io/_kaleido.py?line=262'>263</a>\u001b[0m             )\n\u001b[1;32m    <a href='file:///home/bitbear/.local/lib/python3.10/site-packages/plotly/io/_kaleido.py?line=264'>265</a>\u001b[0m     \u001b[39m# Request image\u001b[39;00m\n\u001b[1;32m    <a href='file:///home/bitbear/.local/lib/python3.10/site-packages/plotly/io/_kaleido.py?line=265'>266</a>\u001b[0m     \u001b[39m# -------------\u001b[39;00m\n\u001b[1;32m    <a href='file:///home/bitbear/.local/lib/python3.10/site-packages/plotly/io/_kaleido.py?line=266'>267</a>\u001b[0m     \u001b[39m# Do this first so we don't create a file if image conversion fails\u001b[39;00m\n\u001b[0;32m--> <a href='file:///home/bitbear/.local/lib/python3.10/site-packages/plotly/io/_kaleido.py?line=267'>268</a>\u001b[0m     img_data \u001b[39m=\u001b[39m to_image(\n\u001b[1;32m    <a href='file:///home/bitbear/.local/lib/python3.10/site-packages/plotly/io/_kaleido.py?line=268'>269</a>\u001b[0m         fig,\n\u001b[1;32m    <a href='file:///home/bitbear/.local/lib/python3.10/site-packages/plotly/io/_kaleido.py?line=269'>270</a>\u001b[0m         \u001b[39mformat\u001b[39;49m\u001b[39m=\u001b[39;49m\u001b[39mformat\u001b[39;49m,\n\u001b[1;32m    <a href='file:///home/bitbear/.local/lib/python3.10/site-packages/plotly/io/_kaleido.py?line=270'>271</a>\u001b[0m         scale\u001b[39m=\u001b[39;49mscale,\n\u001b[1;32m    <a href='file:///home/bitbear/.local/lib/python3.10/site-packages/plotly/io/_kaleido.py?line=271'>272</a>\u001b[0m         width\u001b[39m=\u001b[39;49mwidth,\n\u001b[1;32m    <a href='file:///home/bitbear/.local/lib/python3.10/site-packages/plotly/io/_kaleido.py?line=272'>273</a>\u001b[0m         height\u001b[39m=\u001b[39;49mheight,\n\u001b[1;32m    <a href='file:///home/bitbear/.local/lib/python3.10/site-packages/plotly/io/_kaleido.py?line=273'>274</a>\u001b[0m         validate\u001b[39m=\u001b[39;49mvalidate,\n\u001b[1;32m    <a href='file:///home/bitbear/.local/lib/python3.10/site-packages/plotly/io/_kaleido.py?line=274'>275</a>\u001b[0m         engine\u001b[39m=\u001b[39;49mengine,\n\u001b[1;32m    <a href='file:///home/bitbear/.local/lib/python3.10/site-packages/plotly/io/_kaleido.py?line=275'>276</a>\u001b[0m     )\n\u001b[1;32m    <a href='file:///home/bitbear/.local/lib/python3.10/site-packages/plotly/io/_kaleido.py?line=277'>278</a>\u001b[0m     \u001b[39m# Open file\u001b[39;00m\n\u001b[1;32m    <a href='file:///home/bitbear/.local/lib/python3.10/site-packages/plotly/io/_kaleido.py?line=278'>279</a>\u001b[0m     \u001b[39m# ---------\u001b[39;00m\n\u001b[1;32m    <a href='file:///home/bitbear/.local/lib/python3.10/site-packages/plotly/io/_kaleido.py?line=279'>280</a>\u001b[0m     \u001b[39mif\u001b[39;00m path \u001b[39mis\u001b[39;00m \u001b[39mNone\u001b[39;00m:\n\u001b[1;32m    <a href='file:///home/bitbear/.local/lib/python3.10/site-packages/plotly/io/_kaleido.py?line=280'>281</a>\u001b[0m         \u001b[39m# We previously failed to make sense of `file` as a pathlib object.\u001b[39;00m\n\u001b[1;32m    <a href='file:///home/bitbear/.local/lib/python3.10/site-packages/plotly/io/_kaleido.py?line=281'>282</a>\u001b[0m         \u001b[39m# Attempt to write to `file` as an open file descriptor.\u001b[39;00m\n",
      "File \u001b[0;32m~/.local/lib/python3.10/site-packages/plotly/io/_kaleido.py:134\u001b[0m, in \u001b[0;36mto_image\u001b[0;34m(fig, format, width, height, scale, validate, engine)\u001b[0m\n\u001b[1;32m    <a href='file:///home/bitbear/.local/lib/python3.10/site-packages/plotly/io/_kaleido.py?line=131'>132</a>\u001b[0m     \u001b[39m# Raise informative error message if Kaleido is not installed\u001b[39;00m\n\u001b[1;32m    <a href='file:///home/bitbear/.local/lib/python3.10/site-packages/plotly/io/_kaleido.py?line=132'>133</a>\u001b[0m     \u001b[39mif\u001b[39;00m scope \u001b[39mis\u001b[39;00m \u001b[39mNone\u001b[39;00m:\n\u001b[0;32m--> <a href='file:///home/bitbear/.local/lib/python3.10/site-packages/plotly/io/_kaleido.py?line=133'>134</a>\u001b[0m         \u001b[39mraise\u001b[39;00m \u001b[39mValueError\u001b[39;00m(\n\u001b[1;32m    <a href='file:///home/bitbear/.local/lib/python3.10/site-packages/plotly/io/_kaleido.py?line=134'>135</a>\u001b[0m             \u001b[39m\"\"\"\u001b[39;00m\n\u001b[1;32m    <a href='file:///home/bitbear/.local/lib/python3.10/site-packages/plotly/io/_kaleido.py?line=135'>136</a>\u001b[0m \u001b[39mImage export using the \"kaleido\" engine requires the kaleido package,\u001b[39;00m\n\u001b[1;32m    <a href='file:///home/bitbear/.local/lib/python3.10/site-packages/plotly/io/_kaleido.py?line=136'>137</a>\u001b[0m \u001b[39mwhich can be installed using pip:\u001b[39;00m\n\u001b[1;32m    <a href='file:///home/bitbear/.local/lib/python3.10/site-packages/plotly/io/_kaleido.py?line=137'>138</a>\u001b[0m \u001b[39m    $ pip install -U kaleido\u001b[39;00m\n\u001b[1;32m    <a href='file:///home/bitbear/.local/lib/python3.10/site-packages/plotly/io/_kaleido.py?line=138'>139</a>\u001b[0m \u001b[39m\"\"\"\u001b[39;00m\n\u001b[1;32m    <a href='file:///home/bitbear/.local/lib/python3.10/site-packages/plotly/io/_kaleido.py?line=139'>140</a>\u001b[0m         )\n\u001b[1;32m    <a href='file:///home/bitbear/.local/lib/python3.10/site-packages/plotly/io/_kaleido.py?line=141'>142</a>\u001b[0m     \u001b[39m# Validate figure\u001b[39;00m\n\u001b[1;32m    <a href='file:///home/bitbear/.local/lib/python3.10/site-packages/plotly/io/_kaleido.py?line=142'>143</a>\u001b[0m     \u001b[39m# ---------------\u001b[39;00m\n\u001b[1;32m    <a href='file:///home/bitbear/.local/lib/python3.10/site-packages/plotly/io/_kaleido.py?line=143'>144</a>\u001b[0m     fig_dict \u001b[39m=\u001b[39m validate_coerce_fig_to_dict(fig, validate)\n",
      "\u001b[0;31mValueError\u001b[0m: \nImage export using the \"kaleido\" engine requires the kaleido package,\nwhich can be installed using pip:\n    $ pip install -U kaleido\n"
     ]
    }
   ],
   "source": [
    "import pandas as pd\n",
    "import pathlib as pl\n",
    "import plotly.express as px\n",
    "import numpy as np\n",
    "import plotly.io as pio\n",
    "import os\n",
    "import img2pdf\n",
    "\n",
    "file = pl.Path(\"../recieved.csv\")\n",
    "\n",
    "headerNames = [\"time\", \"recieverId\", \"tempInC\", \"pressure\", \"altitude\", \"humidity\", \"capacitance\"]\n",
    "dataCols = [\"tempInC\", \"pressure\", \"altitude\", \"humidity\", \"capacitance\"]\n",
    "recievedDf = pd.read_csv(file, names=headerNames)  # dF means DataFrame, a construct in pandas for tabled data\n",
    "\n",
    "# pd.options.plotting.backend = \"plotly\"\n",
    "\n",
    "uniqueIDs = sorted(recievedDf.recieverId.unique())\n",
    "print(f\"IDs Connected: {uniqueIDs}\")\n",
    "figList = []\n",
    "for uniqueID in uniqueIDs:\n",
    "    figsOfId = []\n",
    "    tempDf = recievedDf[recievedDf['recieverId']==uniqueID]\n",
    "    tempDf = tempDf[np.abs(tempDf.capacitance - tempDf.capacitance.mean()) <= (3 * tempDf.capacitance.std())] #keep only the ones that are within +3 to -3 standard deviations in the column 'Data'.\n",
    "    tempDf = tempDf[~(np.abs(tempDf.capacitance - tempDf.capacitance.mean()) > (3 * tempDf.capacitance.std()))] #or the other way around\n",
    "    for col in dataCols:\n",
    "        tempTitle = (f\"DEVICE-{uniqueID}-{col}\").upper()\n",
    "        figsOfId.append(px.scatter(tempDf, x=\"time\", y=col, title=tempTitle, template=\"plotly_white\"))    \n",
    "    figList.append(figsOfId)\n",
    "\n",
    "for reciever in figList:\n",
    "    for plot in reciever:\n",
    "        place = pl.Path(f\"output/images/{plot.layout.title.text}.png\")\n",
    "        plot.write_image(place)\n"
   ]
  },
  {
   "cell_type": "code",
   "execution_count": null,
   "metadata": {},
   "outputs": [],
   "source": [
    "# Convert Images to one PDF\n",
    "with open(pl.Path(\"output/sensorPlots.pdf\"), \"wb\") as f:\n",
    "    fullPaths = [os.path.join(\"output/images/\", name) for name in os.listdir(\"output/images/\")]\n",
    "    f.write(img2pdf.convert([i for i in fullPaths if i.endswith(\".png\")]))"
   ]
  },
  {
   "cell_type": "code",
   "execution_count": null,
   "metadata": {},
   "outputs": [],
   "source": [
    "# MAP Example\n",
    "import plotly.express as px\n",
    "df = px.data.carshare()\n",
    "fig = px.scatter_mapbox(df, lat=\"centroid_lat\", lon=\"centroid_lon\", color=\"peak_hour\", size=\"car_hours\",\n",
    "                  color_continuous_scale=px.colors.cyclical.IceFire, size_max=15, zoom=10,\n",
    "                  mapbox_style=\"carto-positron\")\n",
    "fig.show()"
   ]
  }
 ],
 "metadata": {
  "interpreter": {
   "hash": "916dbcbb3f70747c44a77c7bcd40155683ae19c65e1c03b4aa3499c5328201f1"
  },
  "kernelspec": {
   "display_name": "Python 3.9.7 64-bit",
   "language": "python",
   "name": "python3"
  },
  "language_info": {
   "codemirror_mode": {
    "name": "ipython",
    "version": 3
   },
   "file_extension": ".py",
   "mimetype": "text/x-python",
   "name": "python",
   "nbconvert_exporter": "python",
   "pygments_lexer": "ipython3",
   "version": "3.10.2"
  },
  "orig_nbformat": 4
 },
 "nbformat": 4,
 "nbformat_minor": 2
}
